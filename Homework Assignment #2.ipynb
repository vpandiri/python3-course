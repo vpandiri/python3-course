{
 "cells": [
  {
   "cell_type": "markdown",
   "metadata": {},
   "source": [
    "# 2. Dog or Cat?."
   ]
  },
  {
   "cell_type": "markdown",
   "metadata": {},
   "source": [
    "<div style=\"color: red;\">Extremely Difficult</div><div style=\"background-color:red;color: white;\"> --/150</div>\n",
    "**WARNING: You <u>MUST</u> get at least 140 points(90%) to pass this assignment.**\n",
    "\n",
    "Doglas is playing with toys. He finds a toy that can be a dog or a cat. He is unsure if it is a dog or a cat. If only there was technology to help...\n",
    "\n",
    "## YOUR TASK\n",
    "You need to build a Supervised Learning model that can predict if it is a cat or dog. \n",
    "\n",
    "## ASSIGNMENT DEADLINE\n",
    "This assignment should be completed by the 7th day of this course.\n",
    "\n",
    "## FAQs\n",
    "### Do I need to implement stress testing?\n",
    "No, we are not working on a algorithm assignment.\n",
    "\n",
    "### Can I use dependecies?\n",
    "Of course!\n",
    "\n",
    "## How will I be graded?\n",
    "You will be graded with 150 points:\n",
    "50 points - Code Styling Aligns To The Google Python Style Guide and is well documented\n",
    "50 points - Your model is over 85% confident and accurate. *Remember, the more accurate and confident your model is, the more points you are granted.*\n",
    "20 points - Your model is written using TensorFlow or TensorFlow Lite. *Remember, this was extra curricular!*\n",
    "15 points - You have abided by the Honor Code and have passed the plagrism checker.\n",
    "10 points - Your model is running on the cloud.\n",
    "5 points - You have submitted the assignment on time.\n",
    "\n",
    "<u>Honor Code:</u>\n",
    "**Note**: All submitted assignments are run through a plagrism checker. Any detected plagrism will result in immediate disqualification from this course & will forfeit his/her chance to learn something new for free.\n",
    "\n",
    "## Getting Started\n",
    "Find the starter files under the folder <u>hw_2</u>.\n",
    "\n",
    "# &copy; 2019 - Present Aaron Ma. All Rights Reserved."
   ]
  }
 ],
 "metadata": {
  "kernelspec": {
   "display_name": "Python 3",
   "language": "python",
   "name": "python3"
  },
  "language_info": {
   "codemirror_mode": {
    "name": "ipython",
    "version": 3
   },
   "file_extension": ".py",
   "mimetype": "text/x-python",
   "name": "python",
   "nbconvert_exporter": "python",
   "pygments_lexer": "ipython3",
   "version": "3.7.1"
  }
 },
 "nbformat": 4,
 "nbformat_minor": 2
}
