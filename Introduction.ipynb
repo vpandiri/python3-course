{
 "cells": [
  {
   "cell_type": "markdown",
   "metadata": {},
   "source": [
    "# Introduction To The 7-Day Python 3 Course"
   ]
  },
  {
   "cell_type": "markdown",
   "metadata": {},
   "source": [
    "Welcome! In this 7-day Python 3 Course, you'll learn everything it takes to be a Python 3 developer! We'll start from the basics, then move on to the more advanced concepts."
   ]
  },
  {
   "cell_type": "markdown",
   "metadata": {},
   "source": [
    "## FAQs"
   ]
  },
  {
   "cell_type": "markdown",
   "metadata": {},
   "source": [
    "### How will I be learning Python 3?\n",
    "You will be taught using Jupyter Notebooks, which will have the lesson content, along with code examples, and a quiz to see if you have mastered the concept.\n",
    "\n",
    "### How will I stay on track?\n",
    "You will stay on track by following a study scheldule. Check your scheldule here: STUDY_SCHELDULE.md.\n",
    "\n",
    "### How long will I be studying a day?\n",
    "We recomment following this scheldule:\n",
    "\n",
    "* 2-HOUR STUDY\n",
    "* 15-MINUTE BREAK\n",
    "* 2-HOUR STUDY\n",
    "* 1-HOUR LUNCH BREAK\n",
    "* 2-HOUR STUDY\n",
    "* 15-HOUR BREAK\n",
    "\n",
    "In total, you will be studying 6 hours a day, along with a 30-minute break and a hour lunch break."
   ]
  },
  {
   "cell_type": "markdown",
   "metadata": {},
   "source": [
    "# &copy;&nbsp; Copyright 2019 - Present Aaron Ma. All Rights Reserved."
   ]
  }
 ],
 "metadata": {
  "kernelspec": {
   "display_name": "Python 3",
   "language": "python",
   "name": "python3"
  },
  "language_info": {
   "codemirror_mode": {
    "name": "ipython",
    "version": 3
   },
   "file_extension": ".py",
   "mimetype": "text/x-python",
   "name": "python",
   "nbconvert_exporter": "python",
   "pygments_lexer": "ipython3",
   "version": "3.7.1"
  }
 },
 "nbformat": 4,
 "nbformat_minor": 2
}
