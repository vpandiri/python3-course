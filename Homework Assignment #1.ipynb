{
 "cells": [
  {
   "cell_type": "markdown",
   "metadata": {},
   "source": [
    "# 1. Samantha"
   ]
  },
  {
   "cell_type": "markdown",
   "metadata": {},
   "source": [
    "<div style=\"color: green;\">Easy</div><div style=\"background-color:green;color: white;\"> --/50</div>\n",
    "**WARNING: You <u>MUST</u> get at least 45 points(95%) to pass this assignment.**\n",
    "\n",
    "\n",
    "Sam is playing with toy trains. She wants to manage all of her trains by building a system that manages her trains using Flask.\n",
    "\n",
    "## YOUR TASK\n",
    "You have to build a system using Flask to show all of Sam's trains. You will also need to add the functionality to add, delete, and modify trains.\n",
    "\n",
    "## ASSIGNMENT DEADLINE\n",
    "This assignment should be completed by the 6th day of this course.\n",
    "\n",
    "## FAQs\n",
    "### Do I need to implement stress testing?\n",
    "Yes, stress testing is key to the success of this assignment.\n",
    "\n",
    "### Can I use dependecies?\n",
    "Of course!\n",
    "\n",
    "## How will I be graded?\n",
    "You will be graded with 50 points:\n",
    "10 points - Code Styling Aligns To The Google Python Style Guide and is well documented\n",
    "10 points - Your app has correct permissions and works on a computer.\n",
    "10 points - Your app is written correctly.\n",
    "15 points - Your app was done using stress testing\n",
    "5 points - You have abided by the Honor Code and have passed through the plagrism.\n",
    "Bonus(gives up to 25 points) - Memory and compute effecient\n",
    "\n",
    "<u>Honor Code:</u>\n",
    "**Note**: All submitted assignments are run through a plagrism checker. Any detected plagrism will result in immediate disqualification from this course & will forfeit his/her chance to learn something new for free.\n",
    "\n",
    "## Getting Started\n",
    "Find the starter files under the folder <u>hw_1</u>.\n",
    "\n",
    "# &copy; 2019 - Present Aaron Ma. All Rights Reserved."
   ]
  }
 ],
 "metadata": {
  "kernelspec": {
   "display_name": "Python 3",
   "language": "python",
   "name": "python3"
  },
  "language_info": {
   "codemirror_mode": {
    "name": "ipython",
    "version": 3
   },
   "file_extension": ".py",
   "mimetype": "text/x-python",
   "name": "python",
   "nbconvert_exporter": "python",
   "pygments_lexer": "ipython3",
   "version": "3.7.1"
  }
 },
 "nbformat": 4,
 "nbformat_minor": 2
}
