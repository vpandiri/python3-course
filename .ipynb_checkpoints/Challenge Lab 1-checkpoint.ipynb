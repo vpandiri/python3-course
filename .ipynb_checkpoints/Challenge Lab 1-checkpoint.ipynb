{
 "cells": [
  {
   "cell_type": "markdown",
   "metadata": {},
   "source": [
    "# Challenge Lab #1\n",
    "##### <div style=\"color: red;\">Hard</div>"
   ]
  },
  {
   "cell_type": "markdown",
   "metadata": {},
   "source": [
    "This is a challenge lab. Instead of providing a \"cookbook\" with \"recipes\" and \"ingredient instructions\", you will be shown an input with an output. You, need to write a Python program and figure out how to do it."
   ]
  },
  {
   "cell_type": "markdown",
   "metadata": {},
   "source": [
    "## SOLUTION\n",
    "The solution for this challenge lab is here: <u>Challenge Lab 1(Solution).ipynb</u>"
   ]
  },
  {
   "cell_type": "markdown",
   "metadata": {},
   "source": [
    "## YOUR CHALLENGE\n",
    "\n",
    "Your friend is building a code editor. He wants to make it remove the minimum number of invalid parentheses. Using Python 3, write an function that can detect invalid parentheses quickly, within 10 seconds and within 15.6 MB of memory.\n",
    "\n",
    "**Example 1:**\n",
    "```bash\n",
    "Input: \"()())()\"\n",
    "Output: [\"()()()\", \"(())()\"]\n",
    "```\n",
    "\n",
    "**Example 2:**\n",
    "```bash\n",
    "Input: \"(a)())()\"\n",
    "Output: [\"(a)()()\", \"(a())()\"]\n",
    "```\n",
    "\n",
    "**Example 3:**\n",
    "```bash\n",
    "Input: \")(\"\n",
    "Output: [\"\"]\n",
    "```"
   ]
  },
  {
   "cell_type": "markdown",
   "metadata": {},
   "source": [
    "** IMPORTANT NOTE **: The solution and this question is from Leetcode(https://www.leetcode,com/)."
   ]
  },
  {
   "cell_type": "markdown",
   "metadata": {},
   "source": [
    "## YOUR CODE GOES HERE\n",
    "** NOTE **: You can go ahead and use this starter code, or you can write it by yourself."
   ]
  },
  {
   "cell_type": "code",
   "execution_count": 4,
   "metadata": {},
   "outputs": [],
   "source": [
    "class Solution:\n",
    "    def removeInvalidParentheses(self, s: str):\n",
    "        pass"
   ]
  },
  {
   "cell_type": "markdown",
   "metadata": {},
   "source": [
    "## Challenge: Time Effecient"
   ]
  },
  {
   "cell_type": "code",
   "execution_count": 5,
   "metadata": {},
   "outputs": [],
   "source": [
    "class Solution:\n",
    "    def removeInvalidParentheses(self, s: str):\n",
    "        pass"
   ]
  },
  {
   "cell_type": "markdown",
   "metadata": {},
   "source": [
    "## Challenge: Memory Effecient"
   ]
  },
  {
   "cell_type": "code",
   "execution_count": 6,
   "metadata": {},
   "outputs": [],
   "source": [
    "class Solution:\n",
    "    def removeInvalidParentheses(self, s: str):\n",
    "        pass"
   ]
  }
 ],
 "metadata": {
  "kernelspec": {
   "display_name": "Python 3",
   "language": "python",
   "name": "python3"
  },
  "language_info": {
   "codemirror_mode": {
    "name": "ipython",
    "version": 3
   },
   "file_extension": ".py",
   "mimetype": "text/x-python",
   "name": "python",
   "nbconvert_exporter": "python",
   "pygments_lexer": "ipython3",
   "version": "3.7.1"
  }
 },
 "nbformat": 4,
 "nbformat_minor": 2
}
